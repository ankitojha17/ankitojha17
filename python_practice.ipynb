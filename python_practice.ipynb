{
  "nbformat": 4,
  "nbformat_minor": 0,
  "metadata": {
    "colab": {
      "provenance": [],
      "authorship_tag": "ABX9TyM/5TqkSCHApD9EZaVD8ES4",
      "include_colab_link": true
    },
    "kernelspec": {
      "name": "python3",
      "display_name": "Python 3"
    },
    "language_info": {
      "name": "python"
    }
  },
  "cells": [
    {
      "cell_type": "markdown",
      "metadata": {
        "id": "view-in-github",
        "colab_type": "text"
      },
      "source": [
        "<a href=\"https://colab.research.google.com/github/ankitojha17/ankitojha17/blob/main/python_practice.ipynb\" target=\"_parent\"><img src=\"https://colab.research.google.com/assets/colab-badge.svg\" alt=\"Open In Colab\"/></a>"
      ]
    },
    {
      "cell_type": "code",
      "execution_count": null,
      "metadata": {
        "id": "W0kXx6ezbf8t"
      },
      "outputs": [],
      "source": []
    },
    {
      "cell_type": "markdown",
      "source": [
        "print prime number, odd,even\n"
      ],
      "metadata": {
        "id": "KtUS8wx_eLDo"
      }
    },
    {
      "cell_type": "code",
      "source": [
        "def prime_number(n):\n",
        "  flag=True\n",
        "  for i in range(2,n):\n",
        "    if n%i==0:\n",
        "      return False\n",
        "    else :\n",
        "      flag = True\n",
        "      return flag\n",
        "\n",
        "num = int(input(\"enter the number\"))\n",
        "prime_number(num)\n"
      ],
      "metadata": {
        "colab": {
          "base_uri": "https://localhost:8080/"
        },
        "id": "AfB1uiVGeR7Q",
        "outputId": "dd156f55-10f6-4344-cc6b-a8ca063cd554"
      },
      "execution_count": 6,
      "outputs": [
        {
          "name": "stdout",
          "output_type": "stream",
          "text": [
            "enter the number2\n"
          ]
        }
      ]
    },
    {
      "cell_type": "code",
      "source": [
        "def prime_num(n):\n",
        "  if n==0:\n",
        "    return False\n",
        "  elif n==1:\n",
        "    return False\n",
        "  else:\n",
        "    for i in range(2,n):\n",
        "      if n%i==0:\n",
        "        return False\n",
        "    return True"
      ],
      "metadata": {
        "id": "nmibtHuliHc0"
      },
      "execution_count": 7,
      "outputs": []
    },
    {
      "cell_type": "code",
      "source": [
        "def prime_num(n):\n",
        "  if n<2:\n",
        "    return False\n",
        "  for i in range(2,n):\n",
        "    if n%i==0:\n",
        "      return False\n",
        "\n",
        "  return True\n",
        "num = int(input(\"enter the number\"))\n",
        "prime_num(num)"
      ],
      "metadata": {
        "colab": {
          "base_uri": "https://localhost:8080/"
        },
        "id": "qju6gdK2iiMs",
        "outputId": "7538513a-b71d-40af-be2f-c6688f5d7fca"
      },
      "execution_count": 14,
      "outputs": [
        {
          "name": "stdout",
          "output_type": "stream",
          "text": [
            "enter the number9\n"
          ]
        },
        {
          "output_type": "execute_result",
          "data": {
            "text/plain": [
              "False"
            ]
          },
          "metadata": {},
          "execution_count": 14
        }
      ]
    },
    {
      "cell_type": "code",
      "source": [
        "def is_prime(n):\n",
        "  if num <=1:\n",
        "    return False\n",
        "    for i in range(2, int(num**0.5)+1):\n",
        "      if num%i==0:\n",
        "        return False\n",
        "      return True\n",
        "\n",
        "num = int(input(\"enter the number\"))\n",
        "is_prime()"
      ],
      "metadata": {
        "colab": {
          "base_uri": "https://localhost:8080/"
        },
        "id": "pHXRCbW9kK9M",
        "outputId": "59f1f2d5-06cb-4d82-cb44-6f0a35f660c7"
      },
      "execution_count": 18,
      "outputs": [
        {
          "name": "stdout",
          "output_type": "stream",
          "text": [
            "enter the number11\n"
          ]
        }
      ]
    },
    {
      "cell_type": "code",
      "source": [
        "def is_even(n):\n",
        "  if n%2==0:\n",
        "    return True\n",
        "  else:\n",
        "    return False\n",
        "\n",
        "num = int(input(\"enter the number\"))\n",
        "\n",
        "if is_even(num):\n",
        "  print(\"even\")\n",
        "else:\n",
        "  print(\"odd\")"
      ],
      "metadata": {
        "colab": {
          "base_uri": "https://localhost:8080/"
        },
        "id": "MEDpjHPZmcOg",
        "outputId": "5b99e272-4b20-4540-d7ed-c0d4466b686d"
      },
      "execution_count": 22,
      "outputs": [
        {
          "output_type": "stream",
          "name": "stdout",
          "text": [
            "enter the number333\n",
            "odd\n"
          ]
        }
      ]
    },
    {
      "cell_type": "code",
      "source": [
        "def print_vowels(string):\n",
        "  vowels = \"aeiouAEIOU\"\n",
        "  found_vowels = []\n",
        "  for char in string:\n",
        "    if char in vowels:\n",
        "      found_vowels.append(char)\n",
        "      print(\"vowels found:\", found_vowels)\n",
        "    else :\n",
        "      print(\"no vowels found\")\n",
        "\n",
        "char = input(\"enter the string\")\n",
        "print_vowels(char)\n"
      ],
      "metadata": {
        "colab": {
          "base_uri": "https://localhost:8080/"
        },
        "id": "jDbmiHNnnqNx",
        "outputId": "ab70b280-6624-48e3-94c8-b255b0e3db82"
      },
      "execution_count": 35,
      "outputs": [
        {
          "output_type": "stream",
          "name": "stdout",
          "text": [
            "enter the stringANKITojha\n",
            "vowels found: ['A']\n",
            "no vowels found\n",
            "no vowels found\n",
            "vowels found: ['A', 'I']\n",
            "no vowels found\n",
            "vowels found: ['A', 'I', 'o']\n",
            "no vowels found\n",
            "no vowels found\n",
            "vowels found: ['A', 'I', 'o', 'a']\n"
          ]
        }
      ]
    },
    {
      "cell_type": "code",
      "source": [
        "def odd_Num(n):\n",
        "  if n%2!=0:\n",
        "    return True\n",
        "  else:\n",
        "    return False\n",
        "\n",
        "num = int(input(\"enter the number\"))\n",
        "odd_Num(num)"
      ],
      "metadata": {
        "colab": {
          "base_uri": "https://localhost:8080/"
        },
        "id": "gfeq12DY5fgV",
        "outputId": "f4ee8434-5233-4fcb-fde4-13f34be9b2fc"
      },
      "execution_count": 36,
      "outputs": [
        {
          "name": "stdout",
          "output_type": "stream",
          "text": [
            "enter the number33\n"
          ]
        },
        {
          "output_type": "execute_result",
          "data": {
            "text/plain": [
              "True"
            ]
          },
          "metadata": {},
          "execution_count": 36
        }
      ]
    },
    {
      "cell_type": "code",
      "source": [
        "def odd_even_prime(n):\n",
        "  if n%2==0:\n",
        "    print(\"even\")\n",
        "    if n<2:\n",
        "      return False\n",
        "    for i in range(2,int(n**0.5)+1):\n",
        "      if n%i==0:\n",
        "        return False\n",
        "        print(\"prime\")\n",
        "    return True\n",
        "  else:\n",
        "    print(\"odd\")\n",
        "\n",
        "num=int(input(\"enter the number\"))\n",
        "odd_even_prime(num)\n",
        "\n"
      ],
      "metadata": {
        "colab": {
          "base_uri": "https://localhost:8080/"
        },
        "id": "lcD1T-rr6beT",
        "outputId": "fc5eda47-a3f6-4c79-ba68-d8389f964b8d"
      },
      "execution_count": 43,
      "outputs": [
        {
          "output_type": "stream",
          "name": "stdout",
          "text": [
            "enter the number11\n",
            "odd\n"
          ]
        }
      ]
    },
    {
      "cell_type": "code",
      "source": [
        "def odd_even_prime(n):\n",
        "  \"\"\"\n",
        "  This function checks if a number is odd, even, and prime.\n",
        "\n",
        "  Args:\n",
        "    n: The number to be checked.\n",
        "\n",
        "  Returns:\n",
        "    Prints whether the number is odd/even and prime/not prime.\n",
        "  \"\"\"\n",
        "\n",
        "  if n % 2 == 0:\n",
        "    print(f\"{n} is even.\")\n",
        "  else:\n",
        "    print(f\"{n} is odd.\")\n",
        "\n",
        "  if n < 2:  # Numbers less than 2 are not prime\n",
        "    print(f\"{n} is not prime.\")\n",
        "    return\n",
        "\n",
        "  is_prime = True\n",
        "  for i in range(2, int(n**0.5) + 1):\n",
        "    if n % i == 0:\n",
        "      is_prime = False\n",
        "      break\n",
        "\n",
        "  if is_prime:\n",
        "    print(f\"{n} is prime.\")\n",
        "  else:\n",
        "    print(f\"{n} is not prime.\")\n",
        "\n",
        "\n",
        "# Get input from the user\n",
        "num = int(input(\"Enter a number: \"))\n",
        "\n",
        "# Call the function to check the number\n",
        "odd_even_prime(num)"
      ],
      "metadata": {
        "colab": {
          "base_uri": "https://localhost:8080/"
        },
        "id": "7_XqQRf4-Jza",
        "outputId": "9ed92ff9-7ffd-429b-a9b8-f7348f380add"
      },
      "execution_count": 47,
      "outputs": [
        {
          "output_type": "stream",
          "name": "stdout",
          "text": [
            "Enter a number: 1\n",
            "1 is odd.\n",
            "1 is not prime.\n"
          ]
        }
      ]
    },
    {
      "cell_type": "code",
      "source": [
        "def factorial(n):\n",
        "  if n==0:\n",
        "    return 1\n",
        "  else :\n",
        "    result = 1\n",
        "\n",
        "    for i in range(1,n+1):\n",
        "      result*=i\n",
        "    return result\n",
        "\n",
        "num = int(input(\"enter the number\"))\n",
        "factorial(num)"
      ],
      "metadata": {
        "colab": {
          "base_uri": "https://localhost:8080/"
        },
        "id": "d2TCvG3g_K6K",
        "outputId": "ed9bab10-90b1-4b57-fd15-c4c3fdf4b385"
      },
      "execution_count": 51,
      "outputs": [
        {
          "name": "stdout",
          "output_type": "stream",
          "text": [
            "enter the number4\n"
          ]
        },
        {
          "output_type": "execute_result",
          "data": {
            "text/plain": [
              "24"
            ]
          },
          "metadata": {},
          "execution_count": 51
        }
      ]
    },
    {
      "cell_type": "code",
      "source": [
        "def adventure_game():\n",
        "  \"\"\"A simple text-based adventure game.\"\"\"\n",
        "\n",
        "  print(\"Welcome to the Adventure!\")\n",
        "  print(\"You find yourself at a crossroads. Which path do you choose?\")\n",
        "  print(\"1. Go left\")\n",
        "  print(\"2. Go right\")\n",
        "\n",
        "  choice = input(\"Enter your choice (1 or 2): \")\n",
        "\n",
        "  if choice == \"1\":\n",
        "    print(\"You head down the left path...\")\n",
        "    print(\"You encounter a fierce dragon!\")\n",
        "    print(\"What do you do?\")\n",
        "    print(\"1. Fight the dragon\")\n",
        "    print(\"2. Try to sneak past\")\n",
        "\n",
        "    dragon_choice = input(\"Enter your choice (1 or 2): \")\n",
        "\n",
        "    if dragon_choice == \"1\":\n",
        "      print(\"You bravely charge at the dragon, but it's too powerful!\")\n",
        "      print(\"Game Over.\")\n",
        "    elif dragon_choice == \"2\":\n",
        "      print(\"You carefully sneak past the dragon while it's sleeping.\")\n",
        "      print(\"You find a treasure chest!\")\n",
        "      print(\"You win!\")\n",
        "    else:\n",
        "      print(\"Invalid choice. Game Over.\")\n",
        "\n",
        "  elif choice == \"2\":\n",
        "    print(\"You head down the right path...\")\n",
        "    print(\"You come across a deep chasm.\")\n",
        "    print(\"What do you do?\")\n",
        "    print(\"1. Try to jump across\")\n",
        "    print(\"2. Look for another way\")\n",
        "\n",
        "    chasm_choice = input(\"Enter your choice (1 or 2): \")\n",
        "\n",
        "    if chasm_choice == \"1\":\n",
        "      print(\"You take a running leap, but you don't make it!\")\n",
        "      print(\"Game Over.\")\n",
        "    elif chasm_choice == \"2\":\n",
        "      print(\"You find a hidden bridge and safely cross the chasm.\")\n",
        "      print(\"You continue your adventure...\")\n",
        "      # More game logic could be added here\n",
        "    else:\n",
        "      print(\"Invalid choice. Game Over.\")\n",
        "\n",
        "  else:\n",
        "    print(\"Invalid choice. Game Over.\")\n",
        "\n",
        "# Start the game\n",
        "adventure_game()"
      ],
      "metadata": {
        "colab": {
          "base_uri": "https://localhost:8080/"
        },
        "id": "CZ5gjRVeBJVr",
        "outputId": "ce1e926e-ec01-4424-b406-8f05fde2f2b0"
      },
      "execution_count": 53,
      "outputs": [
        {
          "output_type": "stream",
          "name": "stdout",
          "text": [
            "Welcome to the Adventure!\n",
            "You find yourself at a crossroads. Which path do you choose?\n",
            "1. Go left\n",
            "2. Go right\n",
            "Enter your choice (1 or 2): 1\n",
            "You head down the left path...\n",
            "You encounter a fierce dragon!\n",
            "What do you do?\n",
            "1. Fight the dragon\n",
            "2. Try to sneak past\n",
            "Enter your choice (1 or 2): 2\n",
            "You carefully sneak past the dragon while it's sleeping.\n",
            "You find a treasure chest!\n",
            "You win!\n"
          ]
        }
      ]
    },
    {
      "cell_type": "code",
      "source": [
        "def print_hill(rows):\n",
        "  \"\"\"\n",
        "  Prints a hill triangle pattern of stars with the given number of rows.\n",
        "\n",
        "  Args:\n",
        "    rows: The number of rows in the hill.\n",
        "  \"\"\"\n",
        "\n",
        "  for i in range(rows):\n",
        "    # Print spaces before the stars\n",
        "    for j in range(i):\n",
        "      print(\" \", end=\"\")\n",
        "    # Print stars\n",
        "    for j in range(2 *(rows -  i ) - 1):\n",
        "      print(\"*\", end=\"\")\n",
        "    print()  # Move to the next line\n",
        "\n",
        "# Get input from the user\n",
        "rows = int(input(\"Enter the number of rows for the hill: \"))\n",
        "\n",
        "# Print the hill pattern\n",
        "print_hill(rows)"
      ],
      "metadata": {
        "colab": {
          "base_uri": "https://localhost:8080/"
        },
        "id": "-YfYlcsDC9Ls",
        "outputId": "e4241ea5-d8b1-4b81-857a-30133e63a1e0"
      },
      "execution_count": 70,
      "outputs": [
        {
          "output_type": "stream",
          "name": "stdout",
          "text": [
            "Enter the number of rows for the hill: 5\n",
            "*********\n",
            " *******\n",
            "  *****\n",
            "   ***\n",
            "    *\n"
          ]
        }
      ]
    },
    {
      "cell_type": "code",
      "source": [
        "def print_hill(rows):\n",
        "  \"\"\"\n",
        "  Prints a hill triangle pattern of stars with the given number of rows.\n",
        "\n",
        "  Args:\n",
        "    rows: The number of rows in the hill.\n",
        "  \"\"\"\n",
        "\n",
        "  for i in range(rows):\n",
        "    # Print spaces before the stars\n",
        "    for j in range(rows - i - 1 ):\n",
        "      print(\" \", end=\"\")\n",
        "    # Print stars\n",
        "    for j in range(2 * i + 1):\n",
        "      print(\"*\", end=\"\")\n",
        "    print()  # Move to the next line\n",
        "\n",
        "# Get input from the user\n",
        "rows = int(input(\"Enter the number of rows for the hill: \"))\n",
        "\n",
        "# Print the hill pattern\n",
        "print_hill(rows)"
      ],
      "metadata": {
        "colab": {
          "base_uri": "https://localhost:8080/"
        },
        "id": "ik8E2wRDFguA",
        "outputId": "461370d5-f98c-452e-d2ad-524c3db8f45c"
      },
      "execution_count": 69,
      "outputs": [
        {
          "output_type": "stream",
          "name": "stdout",
          "text": [
            "Enter the number of rows for the hill: 6\n",
            "     *\n",
            "    ***\n",
            "   *****\n",
            "  *******\n",
            " *********\n",
            "***********\n"
          ]
        }
      ]
    },
    {
      "cell_type": "code",
      "source": [
        "def print_table_of_8():\n",
        "  for i in range(1, 21, 1):\n",
        "    print( 8*i)\n",
        "\n",
        "print_table_of_8()"
      ],
      "metadata": {
        "colab": {
          "base_uri": "https://localhost:8080/"
        },
        "id": "nCTCtngNIbhM",
        "outputId": "2945e062-4e4d-476c-dc5a-156462258e6d"
      },
      "execution_count": 84,
      "outputs": [
        {
          "output_type": "stream",
          "name": "stdout",
          "text": [
            "8\n",
            "16\n",
            "24\n",
            "32\n",
            "40\n",
            "48\n",
            "56\n",
            "64\n",
            "72\n",
            "80\n",
            "88\n",
            "96\n",
            "104\n",
            "112\n",
            "120\n",
            "128\n",
            "136\n",
            "144\n",
            "152\n",
            "160\n"
          ]
        }
      ]
    }
  ]
}