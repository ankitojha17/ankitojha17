{
  "nbformat": 4,
  "nbformat_minor": 0,
  "metadata": {
    "colab": {
      "provenance": [],
      "authorship_tag": "ABX9TyMwNuFguOYdD7W6TMiSkI3D",
      "include_colab_link": true
    },
    "kernelspec": {
      "name": "python3",
      "display_name": "Python 3"
    },
    "language_info": {
      "name": "python"
    }
  },
  "cells": [
    {
      "cell_type": "markdown",
      "metadata": {
        "id": "view-in-github",
        "colab_type": "text"
      },
      "source": [
        "<a href=\"https://colab.research.google.com/github/ankitojha17/ankitojha17/blob/main/untitled5.ipynb\" target=\"_parent\"><img src=\"https://colab.research.google.com/assets/colab-badge.svg\" alt=\"Open In Colab\"/></a>"
      ]
    },
    {
      "cell_type": "code",
      "execution_count": null,
      "metadata": {
        "colab": {
          "base_uri": "https://localhost:8080/"
        },
        "id": "VIzaO9VbM6Da",
        "outputId": "4f27071c-5617-41c7-dc9b-222666dc16de"
      },
      "outputs": [
        {
          "output_type": "stream",
          "name": "stdout",
          "text": [
            "Enter the job location: banglore\n",
            "You cannot register for the company because the job location is not Bangalore.\n"
          ]
        }
      ],
      "source": [
        "def register_for_company():\n",
        "    \"\"\"Registers for a company if the job location is Bangalore.\"\"\"\n",
        "\n",
        "\n",
        "    job_location = input(\"Enter the job location: \")\n",
        "\n",
        "\n",
        "    if job_location.lower() == \"bangalore\":\n",
        "\n",
        "        print(\"You have been registered for the company.\")\n",
        "    else:\n",
        "\n",
        "        print(\"You cannot register for the company because the job location is not Bangalore.\")\n",
        "\n",
        "\n",
        "register_for_company()"
      ]
    },
    {
      "cell_type": "code",
      "source": [
        "def is_even(number):\n",
        "    \"\"\"Checks if a number is even.\"\"\"\n",
        "    # ... (function body) ...\n"
      ],
      "metadata": {
        "id": "AGbyoBGrPKlz"
      },
      "execution_count": null,
      "outputs": []
    },
    {
      "cell_type": "code",
      "source": [
        "def is_odd_or_even(num):\n",
        "    if num % 2 == 0:\n",
        "        return \"even\"\n",
        "    else:\n",
        "        return \"odd\""
      ],
      "metadata": {
        "id": "8jeqv_NnQAOU"
      },
      "execution_count": null,
      "outputs": []
    },
    {
      "cell_type": "code",
      "source": [
        "def is_mutable(data):\n",
        "    \"\"\"Checks if the given data is mutable or immutable.\n",
        "\n",
        "    Args:\n",
        "        data: The data to check.\n",
        "\n",
        "    Returns:\n",
        "        True if the data is mutable, False otherwise.\n",
        "    \"\"\"\n",
        "\n",
        "    try:\n",
        "        hash(data)\n",
        "        return False\n",
        "    except TypeError:\n",
        "        return True\n",
        "\n",
        "# Examples\n",
        "print(is_mutable([1, 2, 3]))\n",
        "print(is_mutable((1, 2, 3)))\n",
        "print(is_mutable(\"hello\"))\n",
        "print(is_mutable({1, 2, 3}))\n",
        "#code for checking weather the given data is mutable or immutable using if statement\n",
        "def is_mutable(data):\n",
        "    \"\"\"Checks if the given data is mutable or immutable using an if statement.\n",
        "\n",
        "    Args:\n",
        "        data: The data to check.\n",
        "\n",
        "    Returns:\n",
        "        True if the data is mutable, False otherwise.\n",
        "    \"\"\"\n",
        "\n",
        "    if type(data) in (list, dict, set):\n",
        "        return True  # These types are mutable\n",
        "    else:\n",
        "        return False  # Other types are generally immutable\n",
        "\n",
        "# Examples\n",
        "print(is_mutable([1, 2, 3]))  # Output: True\n",
        "print(is_mutable((1, 2, 3)))  # Output: False\n",
        "print(is_mutable(\"hello\"))  # Output: False\n",
        "print(is_mutable({1, 2, 3}))  # Output: True"
      ],
      "metadata": {
        "colab": {
          "base_uri": "https://localhost:8080/"
        },
        "id": "5JXMmdDCTDJA",
        "outputId": "37518d3a-6e3a-4714-e783-d81e5cc85e92"
      },
      "execution_count": null,
      "outputs": [
        {
          "output_type": "stream",
          "name": "stdout",
          "text": [
            "True\n",
            "False\n",
            "False\n",
            "True\n",
            "True\n",
            "False\n",
            "False\n",
            "True\n"
          ]
        }
      ]
    },
    {
      "cell_type": "code",
      "source": [
        "def merge_sort(arr):\n",
        "  \"\"\"\n",
        "  Sorts an array using the Merge Sort algorithm.\n",
        "\n",
        "  Args:\n",
        "    arr: The array to be sorted.\n",
        "\n",
        "  Returns:\n",
        "    The sorted array.\n",
        "  \"\"\"\n",
        "\n",
        "  if len(arr) <= 1:\n",
        "    return arr\n",
        "\n",
        "  mid = len(arr) // 2\n",
        "  left_half = arr[:mid]\n",
        "  right_half = arr[mid:]\n",
        "\n",
        "  left_half = merge_sort(left_half)\n",
        "  right_half = merge_sort(right_half)\n",
        "\n",
        "  return merge(left_half, right_half)\n",
        "\n",
        "def merge(left, right):\n",
        "  \"\"\"\n",
        "  Merges two sorted arrays into a single sorted array.\n",
        "\n",
        "  Args:\n",
        "    left: The left sorted array.\n",
        "    right: The right sorted array.\n",
        "\n",
        "  Returns:\n",
        "    The merged sorted array.\n",
        "  \"\"\"\n",
        "\n",
        "  merged = []\n",
        "  i = j = 0\n",
        "\n",
        "  while i < len(left) and j < len(right):\n",
        "    if left[i] <= right[j]:\n",
        "      merged.append(left[i])\n",
        "      i += 1\n",
        "    else:\n",
        "      merged.append(right[j])\n",
        "      j += 1\n",
        "\n",
        "  merged.extend(left[i:])\n",
        "  merged.extend(right[j:])\n",
        "\n",
        "  return merged\n",
        "\n",
        "# Example usage:\n",
        "arr = [38, 27, 43, 3, 9, 3, 10]\n",
        "sorted_arr = merge_sort(arr)\n",
        "print(sorted_arr)"
      ],
      "metadata": {
        "id": "58rtize4UnOT",
        "outputId": "1dd96b29-ae31-424d-c056-a6b149e0a025",
        "colab": {
          "base_uri": "https://localhost:8080/"
        }
      },
      "execution_count": 3,
      "outputs": [
        {
          "output_type": "stream",
          "name": "stdout",
          "text": [
            "[3, 3, 9, 10, 27, 38, 43]\n"
          ]
        }
      ]
    }
  ]
}