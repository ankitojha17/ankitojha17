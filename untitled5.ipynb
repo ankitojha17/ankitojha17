{
  "nbformat": 4,
  "nbformat_minor": 0,
  "metadata": {
    "colab": {
      "provenance": [],
      "toc_visible": true,
      "authorship_tag": "ABX9TyM/3jrkQMpWxbS8QSbVnKMv",
      "include_colab_link": true
    },
    "kernelspec": {
      "name": "python3",
      "display_name": "Python 3"
    },
    "language_info": {
      "name": "python"
    }
  },
  "cells": [
    {
      "cell_type": "markdown",
      "metadata": {
        "id": "view-in-github",
        "colab_type": "text"
      },
      "source": [
        "<a href=\"https://colab.research.google.com/github/ankitojha17/ankitojha17/blob/main/untitled5.ipynb\" target=\"_parent\"><img src=\"https://colab.research.google.com/assets/colab-badge.svg\" alt=\"Open In Colab\"/></a>"
      ]
    },
    {
      "cell_type": "code",
      "execution_count": null,
      "metadata": {
        "colab": {
          "base_uri": "https://localhost:8080/"
        },
        "id": "VIzaO9VbM6Da",
        "outputId": "4f27071c-5617-41c7-dc9b-222666dc16de"
      },
      "outputs": [
        {
          "output_type": "stream",
          "name": "stdout",
          "text": [
            "Enter the job location: banglore\n",
            "You cannot register for the company because the job location is not Bangalore.\n"
          ]
        }
      ],
      "source": [
        "def register_for_company():\n",
        "    \"\"\"Registers for a company if the job location is Bangalore.\"\"\"\n",
        "\n",
        "\n",
        "    job_location = input(\"Enter the job location: \")\n",
        "\n",
        "\n",
        "    if job_location.lower() == \"bangalore\":\n",
        "\n",
        "        print(\"You have been registered for the company.\")\n",
        "    else:\n",
        "\n",
        "        print(\"You cannot register for the company because the job location is not Bangalore.\")\n",
        "\n",
        "\n",
        "register_for_company()"
      ]
    },
    {
      "cell_type": "code",
      "source": [
        "def is_even(number):\n",
        "    \"\"\"Checks if a number is even.\"\"\"\n",
        "    # ... (function body) ...\n"
      ],
      "metadata": {
        "id": "AGbyoBGrPKlz"
      },
      "execution_count": null,
      "outputs": []
    },
    {
      "cell_type": "code",
      "source": [
        "def is_odd_or_even(num):\n",
        "    if num % 2 == 0:\n",
        "        return \"even\"\n",
        "    else:\n",
        "        return \"odd\""
      ],
      "metadata": {
        "id": "8jeqv_NnQAOU"
      },
      "execution_count": null,
      "outputs": []
    },
    {
      "cell_type": "code",
      "source": [
        "def is_mutable(data):\n",
        "    \"\"\"Checks if the given data is mutable or immutable.\n",
        "\n",
        "    Args:\n",
        "        data: The data to check.\n",
        "\n",
        "    Returns:\n",
        "        True if the data is mutable, False otherwise.\n",
        "    \"\"\"\n",
        "\n",
        "    try:\n",
        "        hash(data)\n",
        "        return False\n",
        "    except TypeError:\n",
        "        return True\n",
        "\n",
        "# Examples\n",
        "print(is_mutable([1, 2, 3]))\n",
        "print(is_mutable((1, 2, 3)))\n",
        "print(is_mutable(\"hello\"))\n",
        "print(is_mutable({1, 2, 3}))\n",
        "#code for checking weather the given data is mutable or immutable using if statement\n",
        "def is_mutable(data):\n",
        "    \"\"\"Checks if the given data is mutable or immutable using an if statement.\n",
        "\n",
        "    Args:\n",
        "        data: The data to check.\n",
        "\n",
        "    Returns:\n",
        "        True if the data is mutable, False otherwise.\n",
        "    \"\"\"\n",
        "\n",
        "    if type(data) in (list, dict, set):\n",
        "        return True  # These types are mutable\n",
        "    else:\n",
        "        return False  # Other types are generally immutable\n",
        "\n",
        "# Examples\n",
        "print(is_mutable([1, 2, 3]))  # Output: True\n",
        "print(is_mutable((1, 2, 3)))  # Output: False\n",
        "print(is_mutable(\"hello\"))  # Output: False\n",
        "print(is_mutable({1, 2, 3}))  # Output: True"
      ],
      "metadata": {
        "colab": {
          "base_uri": "https://localhost:8080/"
        },
        "id": "5JXMmdDCTDJA",
        "outputId": "37518d3a-6e3a-4714-e783-d81e5cc85e92"
      },
      "execution_count": null,
      "outputs": [
        {
          "output_type": "stream",
          "name": "stdout",
          "text": [
            "True\n",
            "False\n",
            "False\n",
            "True\n",
            "True\n",
            "False\n",
            "False\n",
            "True\n"
          ]
        }
      ]
    },
    {
      "cell_type": "code",
      "source": [],
      "metadata": {
        "id": "58rtize4UnOT"
      },
      "execution_count": null,
      "outputs": []
    }
  ]
}