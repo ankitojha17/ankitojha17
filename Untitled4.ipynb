{
  "nbformat": 4,
  "nbformat_minor": 0,
  "metadata": {
    "colab": {
      "provenance": [],
      "authorship_tag": "ABX9TyPGEYbkjejovhfEVHmGE91z",
      "include_colab_link": true
    },
    "kernelspec": {
      "name": "python3",
      "display_name": "Python 3"
    },
    "language_info": {
      "name": "python"
    }
  },
  "cells": [
    {
      "cell_type": "markdown",
      "metadata": {
        "id": "view-in-github",
        "colab_type": "text"
      },
      "source": [
        "<a href=\"https://colab.research.google.com/github/ankitojha17/ankitojha17/blob/main/Untitled4.ipynb\" target=\"_parent\"><img src=\"https://colab.research.google.com/assets/colab-badge.svg\" alt=\"Open In Colab\"/></a>"
      ]
    },
    {
      "cell_type": "code",
      "source": [
        "\n",
        "\n",
        "class Home(object):\n",
        "\n",
        "    def __init__(self, address, area, floors):\n",
        "        self.address = address\n",
        "        self.area = area\n",
        "        self.floors = floors\n",
        "    def show(self):\n",
        "      print(f\"Address: {self.address}, Area: {self.area}, Floors: {self.floors}\")\n",
        "\n",
        "class Banglow(Home):\n",
        "    def __init__(self, address, area, floors, rooms,):\n",
        "        super().__init__(address, area, floors)\n",
        "        self.rooms = rooms\n",
        "    def show(self):\n",
        "      super().show()\n",
        "      print(f\"Rooms: {self.rooms}\")\n",
        "\n",
        "class Flat(Banglow):\n",
        "    def __init__(self, address, area, floors, rooms, colour):\n",
        "        super().__init__(address, area, floors, rooms)\n",
        "        self.colour = colour\n",
        "    def show(self):\n",
        "      super().show()\n",
        "      print(f\"Colour: {self.colour}\")\n",
        "\n",
        "Home = Home('Buxar',1230,2)\n",
        "Home.show()\n",
        "Banglow = Banglow('Buxar',1500,3,10)\n",
        "Banglow.show()\n",
        "Flat = Flat('Buxar',1200,11,4,'white')\n",
        "Flat.show()\n"
      ],
      "metadata": {
        "colab": {
          "base_uri": "https://localhost:8080/"
        },
        "id": "5V9kWZ93CmLl",
        "outputId": "fb0c46fe-9465-49f1-f885-96d91f7984da"
      },
      "execution_count": 26,
      "outputs": [
        {
          "output_type": "stream",
          "name": "stdout",
          "text": [
            "Address: Buxar, Area: 1230, Floors: 2\n",
            "Address: Buxar, Area: 1500, Floors: 3\n",
            "Rooms: 10\n",
            "Address: Buxar, Area: 1200, Floors: 11\n",
            "Rooms: 4\n",
            "Colour: white\n"
          ]
        }
      ]
    },
    {
      "cell_type": "code",
      "source": [],
      "metadata": {
        "id": "FUvV8xgDT9i2"
      },
      "execution_count": null,
      "outputs": []
    }
  ]
}