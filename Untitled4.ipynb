{
  "nbformat": 4,
  "nbformat_minor": 0,
  "metadata": {
    "colab": {
      "provenance": [],
      "authorship_tag": "ABX9TyPP3BDwyjPk9T0NaTkX4xvV",
      "include_colab_link": true
    },
    "kernelspec": {
      "name": "python3",
      "display_name": "Python 3"
    },
    "language_info": {
      "name": "python"
    }
  },
  "cells": [
    {
      "cell_type": "markdown",
      "metadata": {
        "id": "view-in-github",
        "colab_type": "text"
      },
      "source": [
        "<a href=\"https://colab.research.google.com/github/ankitojha17/ankitojha17/blob/main/Untitled4.ipynb\" target=\"_parent\"><img src=\"https://colab.research.google.com/assets/colab-badge.svg\" alt=\"Open In Colab\"/></a>"
      ]
    },
    {
      "cell_type": "code",
      "execution_count": 12,
      "metadata": {
        "colab": {
          "base_uri": "https://localhost:8080/",
          "height": 35
        },
        "id": "83xMhutil3TN",
        "outputId": "daf5b973-b4c9-4772-82a5-569ca215c6c4"
      },
      "outputs": [
        {
          "output_type": "execute_result",
          "data": {
            "text/plain": [
              "'House Address: Buxar, Rooms: 4, Area: 1230, Colour: white, Floor: 2'"
            ],
            "application/vnd.google.colaboratory.intrinsic+json": {
              "type": "string"
            }
          },
          "metadata": {},
          "execution_count": 12
        }
      ],
      "source": [
        "class House:\n",
        "  def __init__(self, address, num_rooms, area):\n",
        "    self.address = address\n",
        "    self.num_rooms = num_rooms\n",
        "    self.area = area\n",
        "\n",
        "  def house_info(self):\n",
        "    return f\"House Address: {self.address}, Rooms: {self.num_rooms}, Area: {self.area}\"\n",
        "\n",
        "H1 = House('Buxar',4,1230)\n",
        "H1.house_info()\n",
        "\n",
        "class Banglow(House):\n",
        "  def __init__(self, address, num_rooms, area, colour):\n",
        "    super().__init__(address, num_rooms, area)\n",
        "    self.colour = colour\n",
        "\n",
        "  def banglow_info(self):\n",
        "    return f\"{self.house_info()}, Colour: {self.colour}\"\n",
        "\n",
        "B1 = Banglow('Buxar',4,1230,'white')\n",
        "B1.banglow_info()\n",
        "\n",
        "class Flat(Banglow):\n",
        "  def __init__(self, address, num_rooms, area, Colour,floor):\n",
        "    super().__init__(address, num_rooms, area, Colour)\n",
        "    self.floor = floor\n",
        "\n",
        "  def flat_info(self):\n",
        "    return f\"{self.banglow_info()}, Floor: {self.floor}\"\n",
        "\n",
        "F1 = Flat('Buxar',4,1230,'white',2)\n",
        "F1.flat_info()"
      ]
    }
  ]
}