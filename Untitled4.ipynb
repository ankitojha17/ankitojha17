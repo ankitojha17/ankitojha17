{
  "nbformat": 4,
  "nbformat_minor": 0,
  "metadata": {
    "colab": {
      "provenance": [],
      "authorship_tag": "ABX9TyPtJaCzIRUbTGEOyXcFRTQL",
      "include_colab_link": true
    },
    "kernelspec": {
      "name": "python3",
      "display_name": "Python 3"
    },
    "language_info": {
      "name": "python"
    }
  },
  "cells": [
    {
      "cell_type": "markdown",
      "metadata": {
        "id": "view-in-github",
        "colab_type": "text"
      },
      "source": [
        "<a href=\"https://colab.research.google.com/github/ankitojha17/ankitojha17/blob/main/Untitled4.ipynb\" target=\"_parent\"><img src=\"https://colab.research.google.com/assets/colab-badge.svg\" alt=\"Open In Colab\"/></a>"
      ]
    },
    {
      "cell_type": "code",
      "source": [
        "\n",
        "\n",
        "class Home(object):\n",
        "\n",
        "    def __init__(self, address, area, floors):\n",
        "        with open('home.txt', 'w') as f:\n",
        "            f.write(f\"Address: {address}, Area: {area}, Floors: {floors}\")\n",
        "    def show(self):\n",
        "      with open('home.txt', 'r') as f:\n",
        "        print(f.read())\n",
        "\n",
        "class Banglow(Home):\n",
        "    def __init__(self, address, area, floors, rooms,):\n",
        "        super().__init__(address, area, floors)\n",
        "        self.rooms = rooms\n",
        "    def show(self):\n",
        "      super().show()\n",
        "      print(f\"Rooms: {self.rooms}\")\n",
        "\n",
        "class Flat(Banglow):\n",
        "    def __init__(self, address, area, floors, rooms, colour):\n",
        "        super().__init__(address, area, floors, rooms)\n",
        "        self.colour = colour\n",
        "    def show(self):\n",
        "      super().show()\n",
        "      print(f\"Colour: {self.colour}\")\n",
        "\n",
        "home_instance = Home('Buxar', 1230, 2)\n",
        "home_instance.show()\n",
        "\n",
        "banglow_instance = Banglow('Buxar', 1500, 3, 10)\n",
        "banglow_instance.show()\n",
        "\n",
        "flat_instance = Flat('Buxar', 1200, 11, 4, 'white')\n",
        "flat_instance.show()\n",
        "\n",
        "\n",
        "\n",
        "\n",
        "\n"
      ],
      "metadata": {
        "colab": {
          "base_uri": "https://localhost:8080/"
        },
        "id": "5V9kWZ93CmLl",
        "outputId": "03241db9-adc0-4433-e673-9910295156ef"
      },
      "execution_count": 18,
      "outputs": [
        {
          "output_type": "stream",
          "name": "stdout",
          "text": [
            "Address: Buxar, Area: 1230, Floors: 2\n",
            "Address: Buxar, Area: 1500, Floors: 3\n",
            "Rooms: 10\n",
            "Address: Buxar, Area: 1200, Floors: 11\n",
            "Rooms: 4\n",
            "Colour: white\n"
          ]
        }
      ]
    },
    {
      "cell_type": "markdown",
      "source": [
        "Tic-Tac-toe game"
      ],
      "metadata": {
        "id": "PrXXdXbKG2wm"
      }
    },
    {
      "cell_type": "code",
      "source": [
        "class TicTacToe:\n",
        "    def __init__(self):\n",
        "        self.board = [[\" \" for _ in range(3)] for _ in range(3)]\n",
        "\n",
        "    def draw_board(self):\n",
        "        for row in self.board:\n",
        "            print(f\"{row[0]} | {row[1]} | {row[2]}\")\n",
        "            print(\"--+---+--\")\n",
        "\n",
        "    def make_move(self, row, col, player):\n",
        "        if self.board[row][col] == \" \":\n",
        "            self.board[row][col] = player\n",
        "        else:\n",
        "            print(\"Invalid move! The cell is already taken.\")\n",
        "\n",
        "game = TicTacToe()\n",
        "\n",
        "game.draw_board()\n"
      ],
      "metadata": {
        "colab": {
          "base_uri": "https://localhost:8080/"
        },
        "id": "K70EQYufIYCg",
        "outputId": "e79c7a83-14ab-4b21-c336-246cded08a3f"
      },
      "execution_count": 34,
      "outputs": [
        {
          "output_type": "stream",
          "name": "stdout",
          "text": [
            "  |   |  \n",
            "--+---+--\n",
            "  |   |  \n",
            "--+---+--\n",
            "  |   |  \n",
            "--+---+--\n"
          ]
        }
      ]
    }
  ]
}