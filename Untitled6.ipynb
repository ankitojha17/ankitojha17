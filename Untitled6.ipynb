{
  "nbformat": 4,
  "nbformat_minor": 0,
  "metadata": {
    "colab": {
      "provenance": [],
      "authorship_tag": "ABX9TyNtVVEkyZn9W/GnKw6IpRho",
      "include_colab_link": true
    },
    "kernelspec": {
      "name": "python3",
      "display_name": "Python 3"
    },
    "language_info": {
      "name": "python"
    }
  },
  "cells": [
    {
      "cell_type": "markdown",
      "metadata": {
        "id": "view-in-github",
        "colab_type": "text"
      },
      "source": [
        "<a href=\"https://colab.research.google.com/github/ankitojha17/ankitojha17/blob/main/Untitled6.ipynb\" target=\"_parent\"><img src=\"https://colab.research.google.com/assets/colab-badge.svg\" alt=\"Open In Colab\"/></a>"
      ]
    },
    {
      "cell_type": "code",
      "execution_count": null,
      "metadata": {
        "colab": {
          "base_uri": "https://localhost:8080/"
        },
        "id": "dmfBnnAoqnzD",
        "outputId": "95216e2c-22e5-464b-8d42-1475c2a02c5c"
      },
      "outputs": [
        {
          "output_type": "stream",
          "name": "stdout",
          "text": [
            "The most frequent element is: 4\n"
          ]
        }
      ],
      "source": [
        "def most_frequent_element(arr):\n",
        "  \"\"\"\n",
        "  Finds the most frequent element in an array using sorting.\n",
        "\n",
        "  Args:\n",
        "    arr: The input array.\n",
        "\n",
        "  Returns:\n",
        "    The most frequent element.\n",
        "  \"\"\"\n",
        "  n = len(arr)\n",
        "  if n == 0:\n",
        "    return None\n",
        "\n",
        "  arr.sort()\n",
        "\n",
        "  max_count = 1\n",
        "  res = arr[0]\n",
        "  curr_count = 1\n",
        "\n",
        "  for i in range(1, n):\n",
        "    if arr[i] == arr[i - 1]:\n",
        "      curr_count += 1\n",
        "    else:\n",
        "      if curr_count > max_count:\n",
        "        max_count = curr_count\n",
        "        res = arr[i - 1]\n",
        "      curr_count = 1\n",
        "\n",
        "  # Check for the last element\n",
        "  if curr_count > max_count:\n",
        "    max_count = curr_count\n",
        "    res = arr[n - 1]\n",
        "\n",
        "  return res\n",
        "\n",
        "# Example usage\n",
        "arr = [1, 2, 3, 2, 2, 3, 3, 3, 4, 4, 4, 4, 4]\n",
        "most_frequent = most_frequent_element(arr)\n",
        "print(f\"The most frequent element is: {most_frequent}\")"
      ]
    },
    {
      "cell_type": "code",
      "source": [
        "def delete_largest_element(arr):\n",
        "  \"\"\"\n",
        "  Deletes the largest element from an array.\n",
        "\n",
        "  Args:\n",
        "    arr: The input array.\n",
        "\n",
        "  Returns:\n",
        "    The array with the largest element removed.\n",
        "  \"\"\"\n",
        "  if not arr:\n",
        "    return arr\n",
        "\n",
        "  largest_element = max(arr)\n",
        "  arr.remove(largest_element)\n",
        "\n",
        "  return arr\n",
        "\n",
        "# Example usage\n",
        "arr = [1, 2, 3, 2, 2, 3, 3, 3, 4, 4, 4, 4, 4]\n",
        "arr_without_largest = delete_largest_element(arr)\n",
        "print(f\"Array without the largest element: {arr_without_largest}\")"
      ],
      "metadata": {
        "colab": {
          "base_uri": "https://localhost:8080/"
        },
        "id": "fxoTI5hLtOnJ",
        "outputId": "61d01510-ed62-431b-c72c-59b570b70f77"
      },
      "execution_count": null,
      "outputs": [
        {
          "output_type": "stream",
          "name": "stdout",
          "text": [
            "Array without the largest element: [1, 2, 3, 2, 2, 3, 3, 3, 4, 4, 4, 4]\n"
          ]
        }
      ]
    },
    {
      "cell_type": "code",
      "source": [
        "class LinkedList:\n",
        "    def __init__(self,head=None):\n",
        "        self.head = head\n",
        "        def append(self, new_node):\n",
        "            current = self.head\n",
        "            if current:\n",
        "                while current.next:\n",
        "                    current = current.next\n",
        "                current.next = new_node\n",
        "            else:\n",
        "                self.head = new_node"
      ],
      "metadata": {
        "id": "So_oiDrE-Iwb"
      },
      "execution_count": 1,
      "outputs": []
    }
  ]
}