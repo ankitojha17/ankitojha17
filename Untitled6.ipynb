{
  "nbformat": 4,
  "nbformat_minor": 0,
  "metadata": {
    "colab": {
      "provenance": [],
      "authorship_tag": "ABX9TyMsJhh4hO+5/2eWn6RiRer3",
      "include_colab_link": true
    },
    "kernelspec": {
      "name": "python3",
      "display_name": "Python 3"
    },
    "language_info": {
      "name": "python"
    }
  },
  "cells": [
    {
      "cell_type": "markdown",
      "metadata": {
        "id": "view-in-github",
        "colab_type": "text"
      },
      "source": [
        "<a href=\"https://colab.research.google.com/github/ankitojha17/ankitojha17/blob/main/Untitled6.ipynb\" target=\"_parent\"><img src=\"https://colab.research.google.com/assets/colab-badge.svg\" alt=\"Open In Colab\"/></a>"
      ]
    },
    {
      "cell_type": "code",
      "execution_count": null,
      "metadata": {
        "colab": {
          "base_uri": "https://localhost:8080/"
        },
        "id": "dmfBnnAoqnzD",
        "outputId": "95216e2c-22e5-464b-8d42-1475c2a02c5c"
      },
      "outputs": [
        {
          "output_type": "stream",
          "name": "stdout",
          "text": [
            "The most frequent element is: 4\n"
          ]
        }
      ],
      "source": [
        "def most_frequent_element(arr):\n",
        "  \"\"\"\n",
        "  Finds the most frequent element in an array using sorting.\n",
        "\n",
        "  Args:\n",
        "    arr: The input array.\n",
        "\n",
        "  Returns:\n",
        "    The most frequent element.\n",
        "  \"\"\"\n",
        "  n = len(arr)\n",
        "  if n == 0:\n",
        "    return None\n",
        "\n",
        "  arr.sort()\n",
        "\n",
        "  max_count = 1\n",
        "  res = arr[0]\n",
        "  curr_count = 1\n",
        "\n",
        "  for i in range(1, n):\n",
        "    if arr[i] == arr[i - 1]:\n",
        "      curr_count += 1\n",
        "    else:\n",
        "      if curr_count > max_count:\n",
        "        max_count = curr_count\n",
        "        res = arr[i - 1]\n",
        "      curr_count = 1\n",
        "\n",
        "  # Check for the last element\n",
        "  if curr_count > max_count:\n",
        "    max_count = curr_count\n",
        "    res = arr[n - 1]\n",
        "\n",
        "  return res\n",
        "\n",
        "# Example usage\n",
        "arr = [1, 2, 3, 2, 2, 3, 3, 3, 4, 4, 4, 4, 4]\n",
        "most_frequent = most_frequent_element(arr)\n",
        "print(f\"The most frequent element is: {most_frequent}\")"
      ]
    },
    {
      "cell_type": "code",
      "source": [
        "def delete_largest_element(arr):\n",
        "  \"\"\"\n",
        "  Deletes the largest element from an array.\n",
        "\n",
        "  Args:\n",
        "    arr: The input array.\n",
        "\n",
        "  Returns:\n",
        "    The array with the largest element removed.\n",
        "  \"\"\"\n",
        "  if not arr:\n",
        "    return arr\n",
        "\n",
        "  largest_element = max(arr)\n",
        "  arr.remove(largest_element)\n",
        "\n",
        "  return arr\n",
        "\n",
        "# Example usage\n",
        "arr = [1, 2, 3, 2, 2, 3, 3, 3, 4, 4, 4, 4, 4]\n",
        "arr_without_largest = delete_largest_element(arr)\n",
        "print(f\"Array without the largest element: {arr_without_largest}\")"
      ],
      "metadata": {
        "colab": {
          "base_uri": "https://localhost:8080/"
        },
        "id": "fxoTI5hLtOnJ",
        "outputId": "61d01510-ed62-431b-c72c-59b570b70f77"
      },
      "execution_count": null,
      "outputs": [
        {
          "output_type": "stream",
          "name": "stdout",
          "text": [
            "Array without the largest element: [1, 2, 3, 2, 2, 3, 3, 3, 4, 4, 4, 4]\n"
          ]
        }
      ]
    },
    {
      "cell_type": "code",
      "source": [
        "class LinkedList:\n",
        "    def __init__(self,head=None):\n",
        "        self.head = head\n",
        "        def append(self, new_node):\n",
        "            current = self.head\n",
        "            if current:\n",
        "                while current.next:\n",
        "                    current = current.next\n",
        "                current.next = new_node\n",
        "            else:\n",
        "                self.head = new_node"
      ],
      "metadata": {
        "id": "So_oiDrE-Iwb"
      },
      "execution_count": 1,
      "outputs": []
    },
    {
      "cell_type": "code",
      "source": [
        "class Node:\n",
        "    def __init__(self, data):\n",
        "        self.data = data\n",
        "        self.next = None\n",
        "\n",
        "class LinkedList:\n",
        "    def __init__(self):\n",
        "        self.head = None\n",
        "\n",
        "    def append(self, data):\n",
        "        new_node = Node(data)\n",
        "        if self.head is None:\n",
        "            self.head = new_node\n",
        "            return\n",
        "        last_node = self.head\n",
        "        while last_node.next:\n",
        "            last_node = last_node.next\n",
        "        last_node.next = new_node\n",
        "\n",
        "    def search(self, target):\n",
        "        current = self.head\n",
        "        while current:\n",
        "            if current.data == target:\n",
        "                return True\n",
        "            current = current.next\n",
        "        return False\n",
        "\n",
        "llist = LinkedList()\n",
        "llist.append(1)\n",
        "llist.append(2)\n",
        "llist.append(3)\n",
        "llist.append(4)\n",
        "llist.append(5)\n",
        "\n",
        "if llist.search(3):\n",
        "    print(\"Element 3 is present in the linked list\")\n",
        "else:\n",
        "    print(\"Element 3 is not present in the linked list\")\n",
        "\n",
        "if llist.search(6):\n",
        "    print(\"Element 6 is present in the linked list\")\n",
        "else:\n",
        "    print(\"Element 6 is not present in the linked list\")"
      ],
      "metadata": {
        "colab": {
          "base_uri": "https://localhost:8080/"
        },
        "id": "Vg211vhpSaG2",
        "outputId": "a471453f-55e5-4404-df40-14836fc62c73"
      },
      "execution_count": 2,
      "outputs": [
        {
          "output_type": "stream",
          "name": "stdout",
          "text": [
            "Element 3 is present in the linked list\n",
            "Element 6 is not present in the linked list\n"
          ]
        }
      ]
    }
  ]
}