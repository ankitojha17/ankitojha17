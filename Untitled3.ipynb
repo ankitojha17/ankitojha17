{
  "nbformat": 4,
  "nbformat_minor": 0,
  "metadata": {
    "colab": {
      "provenance": [],
      "authorship_tag": "ABX9TyPoiGe4DeWNYWESVU3WCyFZ",
      "include_colab_link": true
    },
    "kernelspec": {
      "name": "python3",
      "display_name": "Python 3"
    },
    "language_info": {
      "name": "python"
    }
  },
  "cells": [
    {
      "cell_type": "markdown",
      "metadata": {
        "id": "view-in-github",
        "colab_type": "text"
      },
      "source": [
        "<a href=\"https://colab.research.google.com/github/ankitojha17/ankitojha17/blob/main/Untitled3.ipynb\" target=\"_parent\"><img src=\"https://colab.research.google.com/assets/colab-badge.svg\" alt=\"Open In Colab\"/></a>"
      ]
    },
    {
      "cell_type": "code",
      "execution_count": null,
      "metadata": {
        "id": "vq9M9kairEjw"
      },
      "outputs": [],
      "source": []
    },
    {
      "cell_type": "markdown",
      "source": [
        "oops concepts in python :  inheritance\n"
      ],
      "metadata": {
        "id": "0dxDDFBgrFvK"
      }
    },
    {
      "cell_type": "code",
      "source": [
        "\n",
        "class Person(object):\n",
        "\n",
        "\n",
        "  def __init__(self, name, id):\n",
        "    self.name = name\n",
        "    self.id = id\n",
        "\n",
        "\n",
        "  def Display(self):\n",
        "    print(self.name, self.id)\n",
        "\n",
        "\n",
        "\n",
        "emp = Person(\"Ankit\", 111)\n",
        "emp.Display()\n"
      ],
      "metadata": {
        "colab": {
          "base_uri": "https://localhost:8080/"
        },
        "id": "BToeS5Czs-2p",
        "outputId": "9b10e43e-79a7-4555-d5d8-a2d1117e823a"
      },
      "execution_count": 4,
      "outputs": [
        {
          "output_type": "stream",
          "name": "stdout",
          "text": [
            "Ankit 111\n"
          ]
        }
      ]
    },
    {
      "cell_type": "code",
      "source": [
        "\n",
        "class Person(object):\n",
        "\n",
        "    def __init__(self, name, idnumber):\n",
        "        self.name = name\n",
        "        self.idnumber = idnumber\n",
        "\n",
        "    def display(self):\n",
        "        print(self.name)\n",
        "        print(self.idnumber)\n",
        "\n",
        "\n",
        "class Employee(Person):\n",
        "    def __init__(self, name, idnumber, salary, post):\n",
        "        self.salary = salary\n",
        "        self.post = post\n",
        "\n",
        "\n",
        "        Person.__init__(self, name, idnumber)\n",
        "\n",
        "a = Employee('Ankit', 886012, 200000, \"Intern\")\n",
        "\n",
        "a.display()\n"
      ],
      "metadata": {
        "colab": {
          "base_uri": "https://localhost:8080/"
        },
        "id": "VLaWjZc4tfeJ",
        "outputId": "44a96069-1267-4305-831c-c4185603bd2d"
      },
      "execution_count": 5,
      "outputs": [
        {
          "output_type": "stream",
          "name": "stdout",
          "text": [
            "Ankit\n",
            "886012\n"
          ]
        }
      ]
    },
    {
      "cell_type": "code",
      "source": [],
      "metadata": {
        "id": "l_ya9Nj2uGYq"
      },
      "execution_count": null,
      "outputs": []
    },
    {
      "cell_type": "markdown",
      "source": [
        "multilevel inheritence"
      ],
      "metadata": {
        "id": "FWreIHCKuSC3"
      }
    },
    {
      "cell_type": "code",
      "source": [
        "class Car1(object):\n",
        "    def __init__(self):\n",
        "        self.str1 = \"BMW\"\n",
        "        print(\"Car1\")\n",
        "\n",
        "\n",
        "class Car2(object):\n",
        "    def __init__(self):\n",
        "        self.str2 = \"BMW2\"\n",
        "        print(\"Car2\")\n",
        "\n",
        "\n",
        "class Derived(Car1 , Car2):\n",
        "    def __init__(self):\n",
        "        Car1.__init__(self)\n",
        "        Car2.__init__(self)\n",
        "        print(\"Derived\")\n",
        "\n",
        "    def printStrs(self):\n",
        "        print(self.str1, self.str2)\n",
        "\n",
        "\n",
        "ob = Derived()\n",
        "ob.printStrs()\n"
      ],
      "metadata": {
        "colab": {
          "base_uri": "https://localhost:8080/"
        },
        "id": "W_b-otFkuXNc",
        "outputId": "cf82ce81-16b8-4f20-ce98-9ef7afeee5b4"
      },
      "execution_count": 7,
      "outputs": [
        {
          "output_type": "stream",
          "name": "stdout",
          "text": [
            "Car1\n",
            "Car2\n",
            "Derived\n",
            "BMW BMW2\n"
          ]
        }
      ]
    },
    {
      "cell_type": "markdown",
      "source": [
        "Polymorphism using class methods"
      ],
      "metadata": {
        "id": "xsFdb-i_v9zs"
      }
    },
    {
      "cell_type": "code",
      "source": [
        "class India():\n",
        "    def capital(self):\n",
        "        print(\"New Delhi is the capital of India.\")\n",
        "\n",
        "    def language(self):\n",
        "        print(\"Hindi is the most widely spoken language of India.\")\n",
        "\n",
        "    def type(self):\n",
        "        print(\"India is a developing country.\")\n",
        "\n",
        "class Bihar():\n",
        "    def capital(self):\n",
        "        print(\"Patna  is the capital of Bihar.\")\n",
        "\n",
        "    def language(self):\n",
        "        print(\"Bhojpuri is the primary language of Bihar.\")\n",
        "\n",
        "    def type(self):\n",
        "        print(\"Bihar is culture rich state.\")\n",
        "\n",
        "class UP():\n",
        "    def capital(self):\n",
        "        print(\"panipath is the capital of UP.\")\n",
        "\n",
        "    def language(self):\n",
        "        print(\"Sanskrit is the main language of UP.\")\n",
        "\n",
        "    def type(self):\n",
        "        print(\"UP is the largest state of india.\")\n",
        "\n",
        "obj_ind = India()\n",
        "obj_Bihar = Bihar()\n",
        "obj_UP = UP()\n",
        "for country in (obj_ind, obj_Bihar, obj_UP):\n",
        "    country.capital()\n",
        "    country.language()\n",
        "    country.type()\n"
      ],
      "metadata": {
        "colab": {
          "base_uri": "https://localhost:8080/"
        },
        "id": "yHVx1rxvwH0l",
        "outputId": "901fbd07-2d1f-41aa-8743-5744ec10d14a"
      },
      "execution_count": 11,
      "outputs": [
        {
          "output_type": "stream",
          "name": "stdout",
          "text": [
            "New Delhi is the capital of India.\n",
            "Hindi is the most widely spoken language of India.\n",
            "India is a developing country.\n",
            "Patna  is the capital of Bihar.\n",
            "Bhojpuri is the primary language of Bihar.\n",
            "Bihar is culture rich state.\n",
            "panipath is the capital of UP.\n",
            "Sanskrit is the main language of UP.\n",
            "UP is the largest state of india.\n"
          ]
        }
      ]
    },
    {
      "cell_type": "code",
      "source": [],
      "metadata": {
        "id": "PN6J7h9SviHE"
      },
      "execution_count": null,
      "outputs": []
    },
    {
      "cell_type": "markdown",
      "source": [
        "using over riding method in polymorphism"
      ],
      "metadata": {
        "id": "IRMl7rwb4MKf"
      }
    },
    {
      "cell_type": "code",
      "source": [
        "class Animal:\n",
        "    def speak(self):\n",
        "        raise NotImplementedError(\"Subclass must implement this method\")\n",
        "\n",
        "class Dog(Animal):\n",
        "    def speak(self):\n",
        "        return \"Woof!\"\n",
        "\n",
        "class Cat(Animal):\n",
        "    def speak(self):\n",
        "        return \"Meow!\"\n",
        "\n",
        "class Cow(Animal):\n",
        "    def speak(self):\n",
        "        return \"Moo!\"\n",
        "\n",
        "animals = [Dog(), Cat(), Cow()]\n",
        "\n",
        "for animal in animals:\n",
        "    print(animal.speak())\n"
      ],
      "metadata": {
        "colab": {
          "base_uri": "https://localhost:8080/"
        },
        "id": "GNlLxVPO4Yfy",
        "outputId": "54b61650-c532-4429-842f-7a1d0d3a2106"
      },
      "execution_count": 12,
      "outputs": [
        {
          "output_type": "stream",
          "name": "stdout",
          "text": [
            "Woof!\n",
            "Meow!\n",
            "Moo!\n"
          ]
        }
      ]
    },
    {
      "cell_type": "markdown",
      "source": [
        "constructer in **python**"
      ],
      "metadata": {
        "id": "fWjwxKqS6Nsk"
      }
    },
    {
      "cell_type": "code",
      "source": [
        "class Addition:\n",
        "    first = 0\n",
        "    second = 0\n",
        "    answer = 0\n",
        "\n",
        "    def __init__(self, f, s):\n",
        "        self.first = f\n",
        "        self.second = s\n",
        "\n",
        "    def display(self):\n",
        "        print(\"First number = \" + str(self.first))\n",
        "        print(\"Second number = \" + str(self.second))\n",
        "        print(\"Addition of two numbers = \" + str(self.answer))\n",
        "\n",
        "    def calculate(self):\n",
        "        self.answer = self.first + self.second\n",
        "\n",
        "\n",
        "obj1 = Addition(30, 200)\n",
        "\n",
        "obj2 = Addition(100, 20)\n",
        "\n",
        "obj1.calculate()\n",
        "\n",
        "obj2.calculate()\n",
        "\n",
        "obj1.display()\n",
        "\n",
        "obj2.display()\n"
      ],
      "metadata": {
        "colab": {
          "base_uri": "https://localhost:8080/"
        },
        "id": "ZZO_qEP86VAF",
        "outputId": "ee4222e4-3edd-4004-9e70-bdd2b3d6ad20"
      },
      "execution_count": 13,
      "outputs": [
        {
          "output_type": "stream",
          "name": "stdout",
          "text": [
            "First number = 30\n",
            "Second number = 200\n",
            "Addition of two numbers = 230\n",
            "First number = 100\n",
            "Second number = 20\n",
            "Addition of two numbers = 120\n"
          ]
        }
      ]
    },
    {
      "cell_type": "code",
      "source": [
        "\n",
        "class Room:\n",
        "    length = 0.0\n",
        "    breadth = 0.0\n",
        "\n",
        "    def calculate_area(self):\n",
        "        print(\"Area of Room =\", self.length * self.breadth)\n",
        "\n",
        "study_room = Room()\n",
        "\n",
        "study_room.length = 30\n",
        "study_room.breadth = 58\n",
        "\n",
        "study_room.calculate_area()"
      ],
      "metadata": {
        "id": "pXi3NafPAlmC",
        "outputId": "1e0f8b91-cca1-4ae2-a294-046eb97de7da",
        "colab": {
          "base_uri": "https://localhost:8080/"
        }
      },
      "execution_count": 14,
      "outputs": [
        {
          "output_type": "stream",
          "name": "stdout",
          "text": [
            "Area of Room = 1740\n"
          ]
        }
      ]
    },
    {
      "cell_type": "markdown",
      "source": [
        "multilevel inheritance"
      ],
      "metadata": {
        "id": "hIP6gEyoCO0B"
      }
    },
    {
      "cell_type": "code",
      "source": [
        "class Parents(object):\n",
        "    def __init__(self, name, age, height):\n",
        "        self.name = name\n",
        "        self.age = age\n",
        "        self.height = height\n",
        "    def show(self):\n",
        "      print(f\"Name: {self.name}, Age: {self.age}, Height: {self.height}\")\n",
        "\n",
        "class Child(Parents):\n",
        "    def __init__(self, name, age, height, school,):\n",
        "        super().__init__(name, age, height)\n",
        "        self.school = school\n",
        "    def show(self):\n",
        "      super().show()\n",
        "      print(f\"School: {self.school}\")\n",
        "\n",
        "class Grandchild(Child):\n",
        "    def __init__(self, name, age, height, school, grade):\n",
        "        super().__init__(name, age, height, school)\n",
        "        self.grade = grade\n",
        "    def show(self):\n",
        "      super().show()\n",
        "      print(f\"Grade: {self.grade}\")\n",
        "\n",
        "parent = Parents(\"Rohit sharma\", 40, 6.1)\n",
        "child = Child(\"Nitish kumar\", 21, 3, \"MV School\")\n",
        "grandchild = Grandchild(\"Abhi jr\", 3, 1.6, \"DAV School\", \"LKG\")\n",
        "\n",
        "parent.show()\n",
        "child.show()\n",
        "grandchild.show()"
      ],
      "metadata": {
        "id": "ioFcUgHbCZQE",
        "outputId": "f5c74744-871f-4a5b-f898-f9b226f2615a",
        "colab": {
          "base_uri": "https://localhost:8080/"
        }
      },
      "execution_count": 19,
      "outputs": [
        {
          "output_type": "stream",
          "name": "stdout",
          "text": [
            "Name: Rohit sharma, Age: 40, Height: 6.1\n",
            "Name: Nitish kumar, Age: 21, Height: 3\n",
            "School: MV School\n",
            "Name: Abhi jr, Age: 3, Height: 1.6\n",
            "School: DAV School\n",
            "Grade: LKG\n"
          ]
        }
      ]
    },
    {
      "cell_type": "code",
      "source": [
        "def add_numbers(x, y):\n",
        "    sum = x + y\n",
        "    return sum"
      ],
      "metadata": {
        "id": "cNlVvCYsI09Y"
      },
      "execution_count": 20,
      "outputs": []
    },
    {
      "cell_type": "code",
      "source": [
        "class Car:\n",
        "  def __init__(self, make, model):\n",
        "    self._make = make = make\n",
        "    self._model = model\n",
        "\n",
        "  def get_make(self):\n",
        "    return self._make\n",
        "\n",
        "  def set_make(self, make):\n",
        "    self._make = make\n",
        "\n",
        "my_car = Car(\"Toyota\", \"Camry\")\n",
        "print(my_car.get_make())\n",
        "my_car.set_make(\"Honda\")"
      ],
      "metadata": {
        "id": "xif3CH1fM-nD",
        "outputId": "f7747e93-f205-4f2b-dca2-07dc3429eeda",
        "colab": {
          "base_uri": "https://localhost:8080/"
        }
      },
      "execution_count": 28,
      "outputs": [
        {
          "output_type": "stream",
          "name": "stdout",
          "text": [
            "Toyota\n"
          ]
        }
      ]
    }
  ]
}