{
  "cells": [
    {
      "cell_type": "markdown",
      "metadata": {
        "id": "view-in-github",
        "colab_type": "text"
      },
      "source": [
        "<a href=\"https://colab.research.google.com/github/ankitojha17/ankitojha17/blob/main/Untitled3.ipynb\" target=\"_parent\"><img src=\"https://colab.research.google.com/assets/colab-badge.svg\" alt=\"Open In Colab\"/></a>"
      ]
    },
    {
      "cell_type": "code",
      "execution_count": null,
      "metadata": {
        "id": "UH-DKktIrARi"
      },
      "outputs": [],
      "source": [
        "import numpy as np"
      ]
    },
    {
      "cell_type": "code",
      "execution_count": null,
      "metadata": {
        "id": "8o75-nlGrQkL"
      },
      "outputs": [],
      "source": [
        "a = [1,2,3]\n",
        "b = np.array(a) * 2"
      ]
    },
    {
      "cell_type": "code",
      "execution_count": null,
      "metadata": {
        "id": "DVzs8RskrVNq"
      },
      "outputs": [],
      "source": [
        "b"
      ]
    },
    {
      "cell_type": "code",
      "execution_count": null,
      "metadata": {
        "id": "41AO8KOO05dd"
      },
      "outputs": [],
      "source": []
    },
    {
      "cell_type": "markdown",
      "metadata": {
        "id": "1OEcdFm707ih"
      },
      "source": [
        "code for the palindrome"
      ]
    },
    {
      "cell_type": "code",
      "execution_count": null,
      "metadata": {
        "id": "-CC7oHw5yy9o"
      },
      "outputs": [],
      "source": [
        "def is_palindrome(s):\n",
        "    s = s.replace(\" \", \"\").lower()\n",
        "    return s == s[::-1]\n",
        "\n",
        "input_string = input(\"Enter a string: \")\n",
        "if is_palindrome(input_string):\n",
        "    print(f'\"{input_string}\" is a palindrome!')\n",
        "else:\n",
        "    print(f'\"{input_string}\" is not a palindrome.')\n"
      ]
    },
    {
      "cell_type": "code",
      "execution_count": null,
      "metadata": {
        "id": "r5AG3o_3MPWI"
      },
      "outputs": [],
      "source": []
    },
    {
      "cell_type": "code",
      "execution_count": null,
      "metadata": {
        "id": "u0kgZpJL1HvF"
      },
      "outputs": [],
      "source": [
        "\n",
        "my_tuple = (1, 2, 3)\n",
        "my_list = [4, 5, 6]\n",
        "\n",
        "\n",
        "result = list(my_tuple) + my_list\n",
        "\n",
        "print(result)\n"
      ]
    },
    {
      "cell_type": "code",
      "execution_count": null,
      "metadata": {
        "id": "SjGKYhJBIIlh"
      },
      "outputs": [],
      "source": [
        "A,B = map(int, input().split())\n",
        "C,D,E = map(int, input().split())\n",
        "F,G,H,I = map(int, input().split())\n",
        "print(A,B,C,D,E,F,G,H,I)"
      ]
    },
    {
      "cell_type": "code",
      "execution_count": null,
      "metadata": {
        "id": "SU6-ZoE0b2_g"
      },
      "outputs": [],
      "source": [
        "t = int(input())\n",
        "\n",
        "for i in range(t):\n",
        "    N = int(input())\n",
        "    print(N)\n"
      ]
    },
    {
      "cell_type": "code",
      "execution_count": null,
      "metadata": {
        "colab": {
          "base_uri": "https://localhost:8080/",
          "height": 245
        },
        "id": "IcOmA_T1zzWV",
        "outputId": "75ca9666-222a-4322-b29f-477bb08e56a1"
      },
      "outputs": [
        {
          "name": "stdout",
          "output_type": "stream",
          "text": [
            "30 \n",
            "90\n"
          ]
        },
        {
          "ename": "ValueError",
          "evalue": "not enough values to unpack (expected 2, got 1)",
          "output_type": "error",
          "traceback": [
            "\u001b[0;31m---------------------------------------------------------------------------\u001b[0m",
            "\u001b[0;31mValueError\u001b[0m                                Traceback (most recent call last)",
            "\u001b[0;32m<ipython-input-1-480bee02bf78>\u001b[0m in \u001b[0;36m<cell line: 2>\u001b[0;34m()\u001b[0m\n\u001b[1;32m      1\u001b[0m \u001b[0mt\u001b[0m \u001b[0;34m=\u001b[0m \u001b[0mint\u001b[0m\u001b[0;34m(\u001b[0m\u001b[0minput\u001b[0m\u001b[0;34m(\u001b[0m\u001b[0;34m)\u001b[0m\u001b[0;34m)\u001b[0m\u001b[0;34m\u001b[0m\u001b[0;34m\u001b[0m\u001b[0m\n\u001b[1;32m      2\u001b[0m \u001b[0;32mfor\u001b[0m \u001b[0mi\u001b[0m \u001b[0;32min\u001b[0m \u001b[0mrange\u001b[0m\u001b[0;34m(\u001b[0m\u001b[0mt\u001b[0m\u001b[0;34m)\u001b[0m\u001b[0;34m:\u001b[0m\u001b[0;34m\u001b[0m\u001b[0;34m\u001b[0m\u001b[0m\n\u001b[0;32m----> 3\u001b[0;31m     \u001b[0mX\u001b[0m\u001b[0;34m,\u001b[0m \u001b[0mY\u001b[0m \u001b[0;34m=\u001b[0m \u001b[0mmap\u001b[0m\u001b[0;34m(\u001b[0m\u001b[0mint\u001b[0m\u001b[0;34m,\u001b[0m \u001b[0minput\u001b[0m\u001b[0;34m(\u001b[0m\u001b[0;34m)\u001b[0m\u001b[0;34m.\u001b[0m\u001b[0msplit\u001b[0m\u001b[0;34m(\u001b[0m\u001b[0;34m)\u001b[0m\u001b[0;34m)\u001b[0m\u001b[0;34m\u001b[0m\u001b[0;34m\u001b[0m\u001b[0m\n\u001b[0m\u001b[1;32m      4\u001b[0m     \u001b[0mprize_top10\u001b[0m \u001b[0;34m=\u001b[0m \u001b[0;36m10\u001b[0m\u001b[0;34m*\u001b[0m\u001b[0mX\u001b[0m\u001b[0;34m\u001b[0m\u001b[0;34m\u001b[0m\u001b[0m\n\u001b[1;32m      5\u001b[0m     \u001b[0mprize_11to100\u001b[0m \u001b[0;34m=\u001b[0m \u001b[0;36m90\u001b[0m\u001b[0;34m*\u001b[0m\u001b[0mY\u001b[0m\u001b[0;34m\u001b[0m\u001b[0;34m\u001b[0m\u001b[0m\n",
            "\u001b[0;31mValueError\u001b[0m: not enough values to unpack (expected 2, got 1)"
          ]
        }
      ],
      "source": [
        "t = int(input())\n",
        "for i in range(t):\n",
        "    X, Y = map(int, input().split())\n",
        "    prize_top10 = 10*X\n",
        "    prize_11to100 = 90*Y\n",
        "    print((prize_top10+prize_11to100))"
      ]
    },
    {
      "cell_type": "code",
      "execution_count": null,
      "metadata": {
        "colab": {
          "base_uri": "https://localhost:8080/"
        },
        "id": "OAbL7bxpYuiX",
        "outputId": "52d18c0a-b280-4068-d022-0cf67b10105b"
      },
      "outputs": [
        {
          "name": "stdout",
          "output_type": "stream",
          "text": [
            "4\n",
            "8\n",
            "9\n",
            "27\n",
            "16\n",
            "64\n"
          ]
        }
      ],
      "source": [
        "def calculate_square_and_cube(number):\n",
        "  square = number**2\n",
        "  cube = number**3\n",
        "  print(square)\n",
        "  print(cube)\n",
        "calculate_square_and_cube(2)\n",
        "calculate_square_and_cube(3)\n",
        "calculate_square_and_cube(4)\n"
      ]
    },
    {
      "cell_type": "code",
      "execution_count": null,
      "metadata": {
        "colab": {
          "base_uri": "https://localhost:8080/",
          "height": 245
        },
        "id": "Kv4bAg7G0yX8",
        "outputId": "f3168b3e-12e3-4506-81b8-7ab3fec7c380"
      },
      "outputs": [
        {
          "name": "stdout",
          "output_type": "stream",
          "text": [
            "3\n",
            "35\n"
          ]
        },
        {
          "ename": "ValueError",
          "evalue": "not enough values to unpack (expected 2, got 1)",
          "output_type": "error",
          "traceback": [
            "\u001b[0;31m---------------------------------------------------------------------------\u001b[0m",
            "\u001b[0;31mValueError\u001b[0m                                Traceback (most recent call last)",
            "\u001b[0;32m<ipython-input-20-2aeeff111048>\u001b[0m in \u001b[0;36m<cell line: 2>\u001b[0;34m()\u001b[0m\n\u001b[1;32m      1\u001b[0m \u001b[0mt\u001b[0m \u001b[0;34m=\u001b[0m \u001b[0mint\u001b[0m\u001b[0;34m(\u001b[0m\u001b[0minput\u001b[0m\u001b[0;34m(\u001b[0m\u001b[0;34m)\u001b[0m\u001b[0;34m)\u001b[0m\u001b[0;34m\u001b[0m\u001b[0;34m\u001b[0m\u001b[0m\n\u001b[1;32m      2\u001b[0m \u001b[0;32mfor\u001b[0m \u001b[0mi\u001b[0m \u001b[0;32min\u001b[0m \u001b[0mrange\u001b[0m\u001b[0;34m(\u001b[0m\u001b[0mt\u001b[0m\u001b[0;34m)\u001b[0m\u001b[0;34m:\u001b[0m\u001b[0;34m\u001b[0m\u001b[0;34m\u001b[0m\u001b[0m\n\u001b[0;32m----> 3\u001b[0;31m     \u001b[0mA\u001b[0m\u001b[0;34m,\u001b[0m \u001b[0mC\u001b[0m \u001b[0;34m=\u001b[0m \u001b[0mmap\u001b[0m\u001b[0;34m(\u001b[0m\u001b[0mint\u001b[0m\u001b[0;34m,\u001b[0m \u001b[0minput\u001b[0m\u001b[0;34m(\u001b[0m\u001b[0;34m)\u001b[0m\u001b[0;34m.\u001b[0m\u001b[0msplit\u001b[0m\u001b[0;34m(\u001b[0m\u001b[0;34m)\u001b[0m\u001b[0;34m)\u001b[0m\u001b[0;34m\u001b[0m\u001b[0;34m\u001b[0m\u001b[0m\n\u001b[0m\u001b[1;32m      4\u001b[0m \u001b[0;34m\u001b[0m\u001b[0m\n\u001b[1;32m      5\u001b[0m     \u001b[0;32mif\u001b[0m \u001b[0mA\u001b[0m\u001b[0;34m%\u001b[0m \u001b[0;36m2\u001b[0m\u001b[0;34m==\u001b[0m \u001b[0;36m0\u001b[0m \u001b[0;32mand\u001b[0m \u001b[0mC\u001b[0m\u001b[0;34m%\u001b[0m\u001b[0;36m2\u001b[0m \u001b[0;34m==\u001b[0m \u001b[0;36m0\u001b[0m \u001b[0;34m:\u001b[0m\u001b[0;34m\u001b[0m\u001b[0;34m\u001b[0m\u001b[0m\n",
            "\u001b[0;31mValueError\u001b[0m: not enough values to unpack (expected 2, got 1)"
          ]
        }
      ],
      "source": [
        "t = int(input())\n",
        "for i in range(t):\n",
        "    A, C = map(int, input().split())\n",
        "\n",
        "    if A% 2== 0 and C%2 == 0 :\n",
        "        B = (A + C)//2\n",
        "        print(B)\n",
        "\n",
        "    elif A%2 !=0 and C%2 !=0 :\n",
        "        B = (A + C)//2\n",
        "        print(B)\n",
        "    else :\n",
        "        print(-1)"
      ]
    },
    {
      "cell_type": "code",
      "execution_count": null,
      "metadata": {
        "colab": {
          "base_uri": "https://localhost:8080/"
        },
        "id": "GCYxMojIMRhC",
        "outputId": "6e2c9f02-04f9-4b45-a836-714cb9917c4a"
      },
      "outputs": [
        {
          "output_type": "stream",
          "name": "stdout",
          "text": [
            "Parent's name: Rohit\n",
            "Child's name: Bobby\n"
          ]
        }
      ],
      "source": [
        "class Parents:\n",
        "  def __init__(self, name):\n",
        "    self.name = name\n",
        "\n",
        "class Child(Parents):\n",
        "  def __init__(self, child_name, parent_name):\n",
        "    super().__init__(parent_name)\n",
        "    self.child_name = child_name\n",
        "\n",
        "parent = Parents(\"Rohit\")\n",
        "child = Child(\"Bobby\", parent.name)\n",
        "\n",
        "print(f\"Parent's name: {child.name}\")\n",
        "print(f\"Child's name: {child.child_name}\")"
      ]
    },
    {
      "cell_type": "code",
      "execution_count": null,
      "metadata": {
        "colab": {
          "background_save": true
        },
        "id": "jh7oRe74O7tA"
      },
      "outputs": [],
      "source": [
        "class Animal:\n",
        "  def __init__(self, name, species):\n",
        "    self.name = name\n",
        "    self.species = species\n",
        "\n",
        "  def make_sound(self):\n",
        "    pass\n",
        "\n",
        "class Dog(Animal):\n",
        "    def __init__(self, name, breed):\n",
        "      super().__init__(name, species=\"Dog\")\n",
        "      self.breed = breed\n",
        "\n",
        "    def make_sound(self):\n",
        "      return \"Woof!\""
      ]
    },
    {
      "cell_type": "code",
      "source": [
        "class Car :\n",
        "  def __init__(self, brand, name):\n",
        "   self.brand = brand\n",
        "   self.name = name\n",
        "\n",
        "class ElectricCar(Car):\n",
        "  def __init__(self, brand, name, battery_capacity):\n",
        "   super().__init__(brand, name)\n",
        "   self.battery_capacity = battery_capacity\n",
        "\n",
        "my_car = ElectricCar(\"Tesla\", \"Model S\", 75)\n",
        "print(my_car.brand)\n",
        "print(my_car.name)\n",
        "print(my_car.battery_capacity)\n",
        "\n"
      ],
      "metadata": {
        "colab": {
          "base_uri": "https://localhost:8080/"
        },
        "id": "iTuIq_PTjOL_",
        "outputId": "ae506574-6ce0-4ee6-f6b9-7a2fecac8e05"
      },
      "execution_count": null,
      "outputs": [
        {
          "output_type": "stream",
          "name": "stdout",
          "text": [
            "Tesla\n",
            "Model S\n",
            "75\n"
          ]
        }
      ]
    },
    {
      "cell_type": "code",
      "source": [
        "class Sports:\n",
        "  def __init__(self, name):\n",
        "    self.name = name\n",
        "\n",
        "  def play(self):\n",
        "    pass\n",
        "\n",
        "class Cricket(Sports):\n",
        "  def __init__(self, name, team, player):\n",
        "    super().__init__(name)\n",
        "    self.team = team\n",
        "    self.player = player\n",
        "\n",
        "  def display_cricket_info(self):\n",
        "    print(f\"Cricket Information: Name - {self.name}, Team - {self.team}, Player - {self.player}\")\n",
        "\n",
        "class Football(Sports):\n",
        "  def __init__(self, name, team, player, owner):\n",
        "    super().__init__(name)\n",
        "    self.team = team\n",
        "    self.player = player\n",
        "    self.owner = owner\n",
        "\n",
        "  def display_football_info(self):\n",
        "    print(f\"Football Information: Name - {self.name}, Team - {self.team}, Player - {self.player}, Owner - {self.owner}\")\n",
        "\n",
        "class CricketFootball(Cricket, Football):\n",
        "  def __init__(self, name, team, player, owner, coach):\n",
        "    Cricket.__init__(self, name, team, player)\n",
        "    Football.__init__(self, name, team, player, owner)"
      ],
      "metadata": {
        "id": "je6sCaRI-nlZ"
      },
      "execution_count": 11,
      "outputs": []
    }
  ],
  "metadata": {
    "colab": {
      "provenance": [],
      "authorship_tag": "ABX9TyNyxIr0l8z8FiwiSlqg7FWD",
      "include_colab_link": true
    },
    "kernelspec": {
      "display_name": "Python 3",
      "name": "python3"
    },
    "language_info": {
      "name": "python"
    }
  },
  "nbformat": 4,
  "nbformat_minor": 0
}