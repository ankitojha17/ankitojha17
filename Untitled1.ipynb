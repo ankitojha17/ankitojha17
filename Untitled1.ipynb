{
  "nbformat": 4,
  "nbformat_minor": 0,
  "metadata": {
    "colab": {
      "provenance": [],
      "authorship_tag": "ABX9TyNg2960TOrzQjanhhzvz/Rv",
      "include_colab_link": true
    },
    "kernelspec": {
      "name": "python3",
      "display_name": "Python 3"
    },
    "language_info": {
      "name": "python"
    }
  },
  "cells": [
    {
      "cell_type": "markdown",
      "metadata": {
        "id": "view-in-github",
        "colab_type": "text"
      },
      "source": [
        "<a href=\"https://colab.research.google.com/github/ankitojha17/ankitojha17/blob/main/Untitled1.ipynb\" target=\"_parent\"><img src=\"https://colab.research.google.com/assets/colab-badge.svg\" alt=\"Open In Colab\"/></a>"
      ]
    },
    {
      "cell_type": "code",
      "execution_count": null,
      "metadata": {
        "id": "1toJt0kk5quR"
      },
      "outputs": [],
      "source": []
    },
    {
      "cell_type": "markdown",
      "source": [
        "TO-DO-LIST\n"
      ],
      "metadata": {
        "id": "bbZXcK895zz6"
      }
    },
    {
      "cell_type": "code",
      "source": [
        "import os\n",
        "\n",
        "TASKS_FILE = 'tasks.txt'\n",
        "\n",
        "def load_tasks():\n",
        "    if not os.path.exists(TASKS_FILE):\n",
        "        return []\n",
        "    with open(TASKS_FILE, 'r') as file:\n",
        "        tasks = file.readlines()\n",
        "    return [task.strip() for task in tasks]\n",
        "\n",
        "def save_tasks(tasks):\n",
        "    with open(TASKS_FILE, 'w') as file:\n",
        "        for task in tasks:\n",
        "            file.write(f\"{task}\\n\")\n",
        "\n",
        "def add_task(task):\n",
        "    tasks = load_tasks()\n",
        "    tasks.append(f\"[ ] {task}\")\n",
        "    save_tasks(tasks)\n",
        "    print(\"Task added.\")\n",
        "\n",
        "def view_tasks():\n",
        "    tasks = load_tasks()\n",
        "    if not tasks:\n",
        "        print(\"No tasks found.\")\n",
        "    for index, task in enumerate(tasks, start=1):\n",
        "        print(f\"{index}. {task}\")\n",
        "\n",
        "def mark_task_completed(task_number):\n",
        "    tasks = load_tasks()\n",
        "    if task_number < 1 or task_number > len(tasks):\n",
        "        print(\"Invalid task number.\")\n",
        "        return\n",
        "    tasks[task_number - 1] = tasks[task_number - 1].replace(\"[ ]\", \"[x]\", 1)\n",
        "    save_tasks(tasks)\n",
        "    print(\"Task marked as completed.\")\n",
        "\n",
        "def delete_task(task_number):\n",
        "    tasks = load_tasks()\n",
        "    if task_number < 1 or task_number > len(tasks):\n",
        "        print(\"Invalid task number.\")\n",
        "        return\n",
        "    tasks.pop(task_number - 1)\n",
        "    save_tasks(tasks)\n",
        "    print(\"Task deleted.\")\n",
        "\n",
        "def main():\n",
        "    while True:\n",
        "        print(\"\\nTo-Do List Application\")\n",
        "        print(\"1. Add a task\")\n",
        "        print(\"2. View tasks\")\n",
        "        print(\"3. Mark task as completed\")\n",
        "        print(\"4. Delete a task\")\n",
        "        print(\"5. Exit\")\n",
        "\n",
        "        choice = input(\"Choose an option (1-5): \")\n",
        "\n",
        "        if choice == '1':\n",
        "            task = input(\"Enter the task description: \")\n",
        "            add_task(task)\n",
        "        elif choice == '2':\n",
        "            view_tasks()\n",
        "        elif choice == '3':\n",
        "            task_number = int(input(\"Enter the task number to mark as completed: \"))\n",
        "            mark_task_completed(task_number)\n",
        "        elif choice == '4':\n",
        "            task_number = int(input(\"Enter the task number to delete: \"))\n",
        "            delete_task(task_number)\n",
        "        elif choice == '5':\n",
        "            print(\"Exiting...\")\n",
        "            break\n",
        "        else:\n",
        "            print(\"Invalid option. Please choose a number between 1 and 5.\")\n",
        "\n",
        "if __name__ == \"__main__\":\n",
        "    main()\n"
      ],
      "metadata": {
        "colab": {
          "base_uri": "https://localhost:8080/"
        },
        "id": "dildcUn76uFm",
        "outputId": "49e83fe7-8674-4115-9e6e-df9289c34e6c"
      },
      "execution_count": 1,
      "outputs": [
        {
          "output_type": "stream",
          "name": "stdout",
          "text": [
            "\n",
            "To-Do List Application\n",
            "1. Add a task\n",
            "2. View tasks\n",
            "3. Mark task as completed\n",
            "4. Delete a task\n",
            "5. Exit\n",
            "Choose an option (1-5): 2\n",
            "No tasks found.\n",
            "\n",
            "To-Do List Application\n",
            "1. Add a task\n",
            "2. View tasks\n",
            "3. Mark task as completed\n",
            "4. Delete a task\n",
            "5. Exit\n",
            "Choose an option (1-5): 5\n",
            "Exiting...\n"
          ]
        }
      ]
    }
  ]
}