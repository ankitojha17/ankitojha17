{
  "nbformat": 4,
  "nbformat_minor": 0,
  "metadata": {
    "colab": {
      "provenance": [],
      "authorship_tag": "ABX9TyNu4yhMT9T7w+cgXthAlGtW",
      "include_colab_link": true
    },
    "kernelspec": {
      "name": "python3",
      "display_name": "Python 3"
    },
    "language_info": {
      "name": "python"
    }
  },
  "cells": [
    {
      "cell_type": "markdown",
      "metadata": {
        "id": "view-in-github",
        "colab_type": "text"
      },
      "source": [
        "<a href=\"https://colab.research.google.com/github/ankitojha17/ankitojha17/blob/main/Untitled0.ipynb\" target=\"_parent\"><img src=\"https://colab.research.google.com/assets/colab-badge.svg\" alt=\"Open In Colab\"/></a>"
      ]
    },
    {
      "cell_type": "code",
      "execution_count": 1,
      "metadata": {
        "id": "UH-DKktIrARi"
      },
      "outputs": [],
      "source": [
        "import numpy as np"
      ]
    },
    {
      "cell_type": "code",
      "source": [
        "a = [1,2,3]\n",
        "b = np.array(a) * 2"
      ],
      "metadata": {
        "id": "8o75-nlGrQkL"
      },
      "execution_count": 2,
      "outputs": []
    },
    {
      "cell_type": "code",
      "source": [
        "b"
      ],
      "metadata": {
        "colab": {
          "base_uri": "https://localhost:8080/"
        },
        "id": "DVzs8RskrVNq",
        "outputId": "31ba74af-e4f6-4fbf-8d4d-ee590d79d754"
      },
      "execution_count": 3,
      "outputs": [
        {
          "output_type": "execute_result",
          "data": {
            "text/plain": [
              "array([2, 4, 6])"
            ]
          },
          "metadata": {},
          "execution_count": 3
        }
      ]
    },
    {
      "cell_type": "code",
      "source": [
        "class Cafe:\n",
        "    def __init__(self):\n",
        "        self.menu = {\n",
        "            'Coffee': 2.5,\n",
        "            'Tea': 2.0,\n",
        "            'Sandwich': 5.0,\n",
        "            'Cake': 3.5,\n",
        "            'Juice': 3.0\n",
        "        }\n",
        "\n",
        "        self.inventory = {\n",
        "            'Coffee': 100,\n",
        "            'Tea': 20,\n",
        "            'Sandwich': 75,\n",
        "            'Cake': 50,\n",
        "            'Juice': 30\n",
        "        }\n",
        "        self.order = {}\n",
        "\n",
        "    def display_menu(self):\n",
        "        \"\"\"Display the available menu with prices.\"\"\"\n",
        "        print(\"Cafe Menu:\")\n",
        "        for item, price in self.menu.items():\n",
        "            print(f\"{item}: ${price}\")\n",
        "\n",
        "    def place_order(self):\n",
        "        \"\"\"Take order from the user.\"\"\"\n",
        "        while True:\n",
        "            print(\"\\nEnter the item name to order (or 'done' to finish): \")\n",
        "            item = input().title()\n",
        "\n",
        "            if item == 'Done':\n",
        "                break\n",
        "\n",
        "            if item in self.menu:\n",
        "                quantity = int(input(f\"Enter quantity for {item}: \"))\n",
        "\n",
        "                if self.check_inventory(item, quantity):\n",
        "                    if item in self.order:\n",
        "                        self.order[item] += quantity\n",
        "                    else:\n",
        "                        self.order[item] = quantity\n",
        "                    self.update_inventory(item, quantity)\n",
        "                else:\n",
        "                    print(f\"Sorry, we don't have enough {item} in stock.\")\n",
        "            else:\n",
        "                print(\"Sorry, the item is not on the menu. Please choose a valid item.\")\n",
        "\n",
        "    def check_inventory(self, item, quantity):\n",
        "        \"\"\"Check if the ordered quantity is available in inventory.\"\"\"\n",
        "        return self.inventory[item] >= quantity\n",
        "\n",
        "    def update_inventory(self, item, quantity):\n",
        "        \"\"\"Update the inventory after the order.\"\"\"\n",
        "        self.inventory[item] -= quantity\n",
        "\n",
        "    def calculate_bill(self):\n",
        "        \"\"\"Calculate the total bill for the order.\"\"\"\n",
        "        total = 0\n",
        "        print(\"\\nYour Order Summary:\")\n",
        "        for item, quantity in self.order.items():\n",
        "            cost = self.menu[item] * quantity\n",
        "            print(f\"{item} x {quantity}: ${cost}\")\n",
        "            total += cost\n",
        "\n",
        "        print(f\"\\nTotal Bill: ${total:.2f}\")\n",
        "\n",
        "    def manage_inventory(self):\n",
        "        \"\"\"Display current inventory.\"\"\"\n",
        "        print(\"\\nCurrent Inventory:\")\n",
        "        for item, stock in self.inventory.items():\n",
        "            print(f\"{item}: {stock} units available\")\n",
        "\n",
        "\n",
        "def cafe_management_system():\n",
        "    cafe = Cafe()\n",
        "\n",
        "    while True:\n",
        "        print(\"\\nWelcome to the Cafe Management System\")\n",
        "        print(\"1. Display Menu\")\n",
        "        print(\"2. Place Order\")\n",
        "        print(\"3. Calculate Bill\")\n",
        "        print(\"4. Manage Inventory\")\n",
        "        print(\"5. Exit\")\n",
        "\n",
        "        choice = input(\"Enter your choice (1-5): \")\n",
        "\n",
        "        if choice == '1':\n",
        "            cafe.display_menu()\n",
        "        elif choice == '2':\n",
        "            cafe.place_order()\n",
        "        elif choice == '3':\n",
        "            cafe.calculate_bill()\n",
        "        elif choice == '4':\n",
        "            cafe.manage_inventory()\n",
        "        elif choice == '5':\n",
        "            print(\"Thank you for visiting the cafe!\")\n",
        "            break\n",
        "        else:\n",
        "            print(\"Invalid choice, please try again.\")\n",
        "\n",
        "cafe_management_system()\n"
      ],
      "metadata": {
        "colab": {
          "base_uri": "https://localhost:8080/"
        },
        "id": "Rh4GQ6ddrVfQ",
        "outputId": "fdcec387-45b8-4db1-b717-37e77de71689"
      },
      "execution_count": null,
      "outputs": [
        {
          "output_type": "stream",
          "name": "stdout",
          "text": [
            "\n",
            "Welcome to the Cafe Management System\n",
            "1. Display Menu\n",
            "2. Place Order\n",
            "3. Calculate Bill\n",
            "4. Manage Inventory\n",
            "5. Exit\n",
            "Enter your choice (1-5): 4\n",
            "\n",
            "Current Inventory:\n",
            "Coffee: 100 units available\n",
            "Tea: 20 units available\n",
            "Sandwich: 75 units available\n",
            "Cake: 50 units available\n",
            "Juice: 30 units available\n",
            "\n",
            "Welcome to the Cafe Management System\n",
            "1. Display Menu\n",
            "2. Place Order\n",
            "3. Calculate Bill\n",
            "4. Manage Inventory\n",
            "5. Exit\n",
            "Enter your choice (1-5): 1\n",
            "Cafe Menu:\n",
            "Coffee: $2.5\n",
            "Tea: $2.0\n",
            "Sandwich: $5.0\n",
            "Cake: $3.5\n",
            "Juice: $3.0\n",
            "\n",
            "Welcome to the Cafe Management System\n",
            "1. Display Menu\n",
            "2. Place Order\n",
            "3. Calculate Bill\n",
            "4. Manage Inventory\n",
            "5. Exit\n"
          ]
        }
      ]
    },
    {
      "cell_type": "code",
      "source": [],
      "metadata": {
        "id": "41AO8KOO05dd"
      },
      "execution_count": null,
      "outputs": []
    },
    {
      "cell_type": "markdown",
      "source": [
        "code for the palindrome"
      ],
      "metadata": {
        "id": "1OEcdFm707ih"
      }
    },
    {
      "cell_type": "code",
      "source": [
        "def is_palindrome(s):\n",
        "    s = s.replace(\" \", \"\").lower()\n",
        "    return s == s[::-1]\n",
        "\n",
        "input_string = input(\"Enter a string: \")\n",
        "if is_palindrome(input_string):\n",
        "    print(f'\"{input_string}\" is a palindrome!')\n",
        "else:\n",
        "    print(f'\"{input_string}\" is not a palindrome.')\n"
      ],
      "metadata": {
        "id": "-CC7oHw5yy9o"
      },
      "execution_count": null,
      "outputs": []
    },
    {
      "cell_type": "code",
      "source": [
        "\n",
        "my_tuple = (1, 2, 3)\n",
        "my_list = [4, 5, 6]\n",
        "\n",
        "\n",
        "result = list(my_tuple) + my_list\n",
        "\n",
        "print(result)\n"
      ],
      "metadata": {
        "id": "u0kgZpJL1HvF"
      },
      "execution_count": null,
      "outputs": []
    }
  ]
}